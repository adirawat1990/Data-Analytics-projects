{
 "cells": [
  {
   "cell_type": "markdown",
   "metadata": {},
   "source": [
    "#### Importing libraries"
   ]
  },
  {
   "cell_type": "code",
   "execution_count": 1,
   "metadata": {},
   "outputs": [],
   "source": [
    "import pandas as pd\n",
    "import numpy as np\n",
    "import seaborn as sns\n",
    "import matplotlib.pyplot as plt\n",
    "%matplotlib inline\n",
    "pd.set_option('display.max_columns', None)\n",
    "pd.set_option('display.max_rows', None)"
   ]
  },
  {
   "cell_type": "markdown",
   "metadata": {},
   "source": [
    "#### Loading data"
   ]
  },
  {
   "cell_type": "code",
   "execution_count": 2,
   "metadata": {},
   "outputs": [],
   "source": [
    "data=pd.read_csv('E:/dsp/imarticus projects/Churn analysis/Dataset/churn.csv')"
   ]
  },
  {
   "cell_type": "code",
   "execution_count": 3,
   "metadata": {},
   "outputs": [
    {
     "data": {
      "text/html": [
       "<div>\n",
       "<style scoped>\n",
       "    .dataframe tbody tr th:only-of-type {\n",
       "        vertical-align: middle;\n",
       "    }\n",
       "\n",
       "    .dataframe tbody tr th {\n",
       "        vertical-align: top;\n",
       "    }\n",
       "\n",
       "    .dataframe thead th {\n",
       "        text-align: right;\n",
       "    }\n",
       "</style>\n",
       "<table border=\"1\" class=\"dataframe\">\n",
       "  <thead>\n",
       "    <tr style=\"text-align: right;\">\n",
       "      <th></th>\n",
       "      <th>customerID</th>\n",
       "      <th>gender</th>\n",
       "      <th>SeniorCitizen</th>\n",
       "      <th>Partner</th>\n",
       "      <th>Dependents</th>\n",
       "      <th>tenure</th>\n",
       "      <th>CallService</th>\n",
       "      <th>MultipleConnections</th>\n",
       "      <th>InternetConnection</th>\n",
       "      <th>OnlineSecurity</th>\n",
       "      <th>OnlineBackup</th>\n",
       "      <th>DeviceProtectionService</th>\n",
       "      <th>TechnicalHelp</th>\n",
       "      <th>OnlineTV</th>\n",
       "      <th>OnlineMovies</th>\n",
       "      <th>Agreement</th>\n",
       "      <th>BillingMethod</th>\n",
       "      <th>PaymentMethod</th>\n",
       "      <th>MonthlyServiceCharges</th>\n",
       "      <th>TotalAmount</th>\n",
       "      <th>Churn</th>\n",
       "    </tr>\n",
       "  </thead>\n",
       "  <tbody>\n",
       "    <tr>\n",
       "      <th>0</th>\n",
       "      <td>2907-ILJBN</td>\n",
       "      <td>Female</td>\n",
       "      <td>0.0</td>\n",
       "      <td>Yes</td>\n",
       "      <td>Yes</td>\n",
       "      <td>11.0</td>\n",
       "      <td>Yes</td>\n",
       "      <td>No</td>\n",
       "      <td>No</td>\n",
       "      <td>No internet service</td>\n",
       "      <td>No internet service</td>\n",
       "      <td>No internet service</td>\n",
       "      <td>No internet service</td>\n",
       "      <td>No internet service</td>\n",
       "      <td>No internet service</td>\n",
       "      <td>One year</td>\n",
       "      <td>No</td>\n",
       "      <td>Mailed check</td>\n",
       "      <td>20.60</td>\n",
       "      <td>233.90</td>\n",
       "      <td>No</td>\n",
       "    </tr>\n",
       "    <tr>\n",
       "      <th>1</th>\n",
       "      <td>3896-RCYYE</td>\n",
       "      <td>Female</td>\n",
       "      <td>0.0</td>\n",
       "      <td>No</td>\n",
       "      <td>No</td>\n",
       "      <td>67.0</td>\n",
       "      <td>No</td>\n",
       "      <td>No phone service</td>\n",
       "      <td>DSL</td>\n",
       "      <td>No</td>\n",
       "      <td>No</td>\n",
       "      <td>Yes</td>\n",
       "      <td>Yes</td>\n",
       "      <td>Yes</td>\n",
       "      <td>Yes</td>\n",
       "      <td>Month-to-month</td>\n",
       "      <td>Yes</td>\n",
       "      <td>Credit card (automatic)</td>\n",
       "      <td>53.40</td>\n",
       "      <td>3579.15</td>\n",
       "      <td>No</td>\n",
       "    </tr>\n",
       "    <tr>\n",
       "      <th>2</th>\n",
       "      <td>9764-REAFF</td>\n",
       "      <td>Female</td>\n",
       "      <td>0.0</td>\n",
       "      <td>Yes</td>\n",
       "      <td>No</td>\n",
       "      <td>59.0</td>\n",
       "      <td>Yes</td>\n",
       "      <td>No</td>\n",
       "      <td>No</td>\n",
       "      <td>No internet service</td>\n",
       "      <td>No internet service</td>\n",
       "      <td>No internet service</td>\n",
       "      <td>No internet service</td>\n",
       "      <td>No internet service</td>\n",
       "      <td>No internet service</td>\n",
       "      <td>Two year</td>\n",
       "      <td>No</td>\n",
       "      <td>Bank transfer (automatic)</td>\n",
       "      <td>18.40</td>\n",
       "      <td>1057.85</td>\n",
       "      <td>No</td>\n",
       "    </tr>\n",
       "    <tr>\n",
       "      <th>3</th>\n",
       "      <td>6651-RLGGM</td>\n",
       "      <td>Male</td>\n",
       "      <td>0.0</td>\n",
       "      <td>Yes</td>\n",
       "      <td>Yes</td>\n",
       "      <td>67.0</td>\n",
       "      <td>Yes</td>\n",
       "      <td>Yes</td>\n",
       "      <td>No</td>\n",
       "      <td>No internet service</td>\n",
       "      <td>No internet service</td>\n",
       "      <td>No internet service</td>\n",
       "      <td>No internet service</td>\n",
       "      <td>No internet service</td>\n",
       "      <td>No internet service</td>\n",
       "      <td>Two year</td>\n",
       "      <td>No</td>\n",
       "      <td>Mailed check</td>\n",
       "      <td>26.30</td>\n",
       "      <td>1688.90</td>\n",
       "      <td>No</td>\n",
       "    </tr>\n",
       "    <tr>\n",
       "      <th>4</th>\n",
       "      <td>5879-SESNB</td>\n",
       "      <td>Female</td>\n",
       "      <td>0.0</td>\n",
       "      <td>No</td>\n",
       "      <td>No</td>\n",
       "      <td>11.0</td>\n",
       "      <td>Yes</td>\n",
       "      <td>Yes</td>\n",
       "      <td>Fiber optic</td>\n",
       "      <td>No</td>\n",
       "      <td>No</td>\n",
       "      <td>No</td>\n",
       "      <td>No</td>\n",
       "      <td>No</td>\n",
       "      <td>No</td>\n",
       "      <td>Month-to-month</td>\n",
       "      <td>No</td>\n",
       "      <td>Electronic check</td>\n",
       "      <td>75.25</td>\n",
       "      <td>888.65</td>\n",
       "      <td>No</td>\n",
       "    </tr>\n",
       "  </tbody>\n",
       "</table>\n",
       "</div>"
      ],
      "text/plain": [
       "   customerID  gender  SeniorCitizen Partner Dependents  tenure CallService  \\\n",
       "0  2907-ILJBN  Female            0.0     Yes        Yes    11.0         Yes   \n",
       "1  3896-RCYYE  Female            0.0      No         No    67.0          No   \n",
       "2  9764-REAFF  Female            0.0     Yes         No    59.0         Yes   \n",
       "3  6651-RLGGM    Male            0.0     Yes        Yes    67.0         Yes   \n",
       "4  5879-SESNB  Female            0.0      No         No    11.0         Yes   \n",
       "\n",
       "  MultipleConnections InternetConnection       OnlineSecurity  \\\n",
       "0                  No                 No  No internet service   \n",
       "1    No phone service                DSL                   No   \n",
       "2                  No                 No  No internet service   \n",
       "3                 Yes                 No  No internet service   \n",
       "4                 Yes        Fiber optic                   No   \n",
       "\n",
       "          OnlineBackup DeviceProtectionService        TechnicalHelp  \\\n",
       "0  No internet service     No internet service  No internet service   \n",
       "1                   No                     Yes                  Yes   \n",
       "2  No internet service     No internet service  No internet service   \n",
       "3  No internet service     No internet service  No internet service   \n",
       "4                   No                      No                   No   \n",
       "\n",
       "              OnlineTV         OnlineMovies       Agreement BillingMethod  \\\n",
       "0  No internet service  No internet service        One year            No   \n",
       "1                  Yes                  Yes  Month-to-month           Yes   \n",
       "2  No internet service  No internet service        Two year            No   \n",
       "3  No internet service  No internet service        Two year            No   \n",
       "4                   No                   No  Month-to-month            No   \n",
       "\n",
       "               PaymentMethod  MonthlyServiceCharges  TotalAmount Churn  \n",
       "0               Mailed check                  20.60       233.90    No  \n",
       "1    Credit card (automatic)                  53.40      3579.15    No  \n",
       "2  Bank transfer (automatic)                  18.40      1057.85    No  \n",
       "3               Mailed check                  26.30      1688.90    No  \n",
       "4           Electronic check                  75.25       888.65    No  "
      ]
     },
     "execution_count": 3,
     "metadata": {},
     "output_type": "execute_result"
    }
   ],
   "source": [
    "data.head()"
   ]
  },
  {
   "cell_type": "code",
   "execution_count": 4,
   "metadata": {},
   "outputs": [
    {
     "name": "stdout",
     "output_type": "stream",
     "text": [
      "<class 'pandas.core.frame.DataFrame'>\n",
      "RangeIndex: 12335 entries, 0 to 12334\n",
      "Data columns (total 21 columns):\n",
      " #   Column                   Non-Null Count  Dtype  \n",
      "---  ------                   --------------  -----  \n",
      " 0   customerID               12335 non-null  object \n",
      " 1   gender                   12335 non-null  object \n",
      " 2   SeniorCitizen            12335 non-null  float64\n",
      " 3   Partner                  12335 non-null  object \n",
      " 4   Dependents               12335 non-null  object \n",
      " 5   tenure                   12335 non-null  float64\n",
      " 6   CallService              12335 non-null  object \n",
      " 7   MultipleConnections      12335 non-null  object \n",
      " 8   InternetConnection       12335 non-null  object \n",
      " 9   OnlineSecurity           12335 non-null  object \n",
      " 10  OnlineBackup             12335 non-null  object \n",
      " 11  DeviceProtectionService  12335 non-null  object \n",
      " 12  TechnicalHelp            12335 non-null  object \n",
      " 13  OnlineTV                 12335 non-null  object \n",
      " 14  OnlineMovies             12335 non-null  object \n",
      " 15  Agreement                12335 non-null  object \n",
      " 16  BillingMethod            12335 non-null  object \n",
      " 17  PaymentMethod            12335 non-null  object \n",
      " 18  MonthlyServiceCharges    12335 non-null  float64\n",
      " 19  TotalAmount              12335 non-null  float64\n",
      " 20  Churn                    12335 non-null  object \n",
      "dtypes: float64(4), object(17)\n",
      "memory usage: 2.0+ MB\n"
     ]
    }
   ],
   "source": [
    "data.info()"
   ]
  },
  {
   "cell_type": "code",
   "execution_count": 5,
   "metadata": {},
   "outputs": [
    {
     "data": {
      "text/html": [
       "<div>\n",
       "<style scoped>\n",
       "    .dataframe tbody tr th:only-of-type {\n",
       "        vertical-align: middle;\n",
       "    }\n",
       "\n",
       "    .dataframe tbody tr th {\n",
       "        vertical-align: top;\n",
       "    }\n",
       "\n",
       "    .dataframe thead th {\n",
       "        text-align: right;\n",
       "    }\n",
       "</style>\n",
       "<table border=\"1\" class=\"dataframe\">\n",
       "  <thead>\n",
       "    <tr style=\"text-align: right;\">\n",
       "      <th></th>\n",
       "      <th>SeniorCitizen</th>\n",
       "      <th>tenure</th>\n",
       "      <th>MonthlyServiceCharges</th>\n",
       "      <th>TotalAmount</th>\n",
       "    </tr>\n",
       "  </thead>\n",
       "  <tbody>\n",
       "    <tr>\n",
       "      <th>count</th>\n",
       "      <td>12335.000000</td>\n",
       "      <td>12335.000000</td>\n",
       "      <td>12335.000000</td>\n",
       "      <td>12335.000000</td>\n",
       "    </tr>\n",
       "    <tr>\n",
       "      <th>mean</th>\n",
       "      <td>0.157254</td>\n",
       "      <td>29.531543</td>\n",
       "      <td>61.502934</td>\n",
       "      <td>2032.263356</td>\n",
       "    </tr>\n",
       "    <tr>\n",
       "      <th>std</th>\n",
       "      <td>0.349871</td>\n",
       "      <td>23.342738</td>\n",
       "      <td>28.673113</td>\n",
       "      <td>2120.078007</td>\n",
       "    </tr>\n",
       "    <tr>\n",
       "      <th>min</th>\n",
       "      <td>0.000000</td>\n",
       "      <td>1.000000</td>\n",
       "      <td>18.250000</td>\n",
       "      <td>18.800000</td>\n",
       "    </tr>\n",
       "    <tr>\n",
       "      <th>25%</th>\n",
       "      <td>0.000000</td>\n",
       "      <td>8.000000</td>\n",
       "      <td>33.886556</td>\n",
       "      <td>352.743728</td>\n",
       "    </tr>\n",
       "    <tr>\n",
       "      <th>50%</th>\n",
       "      <td>0.000000</td>\n",
       "      <td>24.000000</td>\n",
       "      <td>64.364917</td>\n",
       "      <td>1209.250000</td>\n",
       "    </tr>\n",
       "    <tr>\n",
       "      <th>75%</th>\n",
       "      <td>0.000000</td>\n",
       "      <td>49.000000</td>\n",
       "      <td>85.000000</td>\n",
       "      <td>3168.750000</td>\n",
       "    </tr>\n",
       "    <tr>\n",
       "      <th>max</th>\n",
       "      <td>1.000000</td>\n",
       "      <td>72.000000</td>\n",
       "      <td>118.750000</td>\n",
       "      <td>8684.800000</td>\n",
       "    </tr>\n",
       "  </tbody>\n",
       "</table>\n",
       "</div>"
      ],
      "text/plain": [
       "       SeniorCitizen        tenure  MonthlyServiceCharges   TotalAmount\n",
       "count   12335.000000  12335.000000           12335.000000  12335.000000\n",
       "mean        0.157254     29.531543              61.502934   2032.263356\n",
       "std         0.349871     23.342738              28.673113   2120.078007\n",
       "min         0.000000      1.000000              18.250000     18.800000\n",
       "25%         0.000000      8.000000              33.886556    352.743728\n",
       "50%         0.000000     24.000000              64.364917   1209.250000\n",
       "75%         0.000000     49.000000              85.000000   3168.750000\n",
       "max         1.000000     72.000000             118.750000   8684.800000"
      ]
     },
     "execution_count": 5,
     "metadata": {},
     "output_type": "execute_result"
    }
   ],
   "source": [
    "data.describe()"
   ]
  },
  {
   "cell_type": "code",
   "execution_count": 6,
   "metadata": {},
   "outputs": [
    {
     "data": {
      "text/plain": [
       "customerID                 0\n",
       "gender                     0\n",
       "SeniorCitizen              0\n",
       "Partner                    0\n",
       "Dependents                 0\n",
       "tenure                     0\n",
       "CallService                0\n",
       "MultipleConnections        0\n",
       "InternetConnection         0\n",
       "OnlineSecurity             0\n",
       "OnlineBackup               0\n",
       "DeviceProtectionService    0\n",
       "TechnicalHelp              0\n",
       "OnlineTV                   0\n",
       "OnlineMovies               0\n",
       "Agreement                  0\n",
       "BillingMethod              0\n",
       "PaymentMethod              0\n",
       "MonthlyServiceCharges      0\n",
       "TotalAmount                0\n",
       "Churn                      0\n",
       "dtype: int64"
      ]
     },
     "execution_count": 6,
     "metadata": {},
     "output_type": "execute_result"
    }
   ],
   "source": [
    "data.isnull().sum()"
   ]
  },
  {
   "cell_type": "markdown",
   "metadata": {},
   "source": [
    "#### Exploratory data analysis"
   ]
  },
  {
   "cell_type": "code",
   "execution_count": 7,
   "metadata": {},
   "outputs": [
    {
     "data": {
      "text/plain": [
       "No     6728\n",
       "Yes    5607\n",
       "Name: Churn, dtype: int64"
      ]
     },
     "execution_count": 7,
     "metadata": {},
     "output_type": "execute_result"
    }
   ],
   "source": [
    "data['Churn'].value_counts()"
   ]
  },
  {
   "cell_type": "code",
   "execution_count": 8,
   "metadata": {},
   "outputs": [
    {
     "data": {
      "image/png": "[encoded data removed]",
      "text/plain": [
       "<Figure size 432x288 with 1 Axes>"
      ]
     },
     "metadata": {
      "needs_background": "light"
     },
     "output_type": "display_data"
    }
   ],
   "source": [
    "sns.countplot(x='Churn',data=data)\n",
    "plt.title('Analysis')\n",
    "plt.xlabel('Count')\n",
    "plt.ylabel('Churn')\n",
    "plt.show()"
   ]
  },
  {
   "cell_type": "code",
   "execution_count": 9,
   "metadata": {},
   "outputs": [
    {
     "data": {
      "text/plain": [
       "Yes    10933\n",
       "No      1402\n",
       "Name: CallService, dtype: int64"
      ]
     },
     "execution_count": 9,
     "metadata": {},
     "output_type": "execute_result"
    }
   ],
   "source": [
    "data['CallService'].value_counts()"
   ]
  },
  {
   "cell_type": "code",
   "execution_count": 10,
   "metadata": {},
   "outputs": [
    {
     "data": {
      "image/png": "[encoded data removed]",
      "text/plain": [
       "<Figure size 432x288 with 1 Axes>"
      ]
     },
     "metadata": {
      "needs_background": "light"
     },
     "output_type": "display_data"
    }
   ],
   "source": [
    "sns.countplot(x='CallService',data=data)\n",
    "plt.title('Analysis')\n",
    "plt.xlabel('Count')\n",
    "plt.ylabel('CallService')\n",
    "plt.show()"
   ]
  },
  {
   "cell_type": "code",
   "execution_count": 11,
   "metadata": {},
   "outputs": [
    {
     "data": {
      "text/plain": [
       "No                  5952\n",
       "Yes                 4958\n",
       "No phone service    1425\n",
       "Name: MultipleConnections, dtype: int64"
      ]
     },
     "execution_count": 11,
     "metadata": {},
     "output_type": "execute_result"
    }
   ],
   "source": [
    "data['MultipleConnections'].value_counts()"
   ]
  },
  {
   "cell_type": "code",
   "execution_count": 12,
   "metadata": {},
   "outputs": [
    {
     "data": {
      "image/png": "[encoded data removed]",
      "text/plain": [
       "<Figure size 432x288 with 1 Axes>"
      ]
     },
     "metadata": {
      "needs_background": "light"
     },
     "output_type": "display_data"
    }
   ],
   "source": [
    "sns.countplot(x='MultipleConnections',data=data)\n",
    "plt.title('Analysis')\n",
    "plt.xlabel('Count')\n",
    "plt.ylabel('MultipleConnections')\n",
    "plt.show()"
   ]
  },
  {
   "cell_type": "code",
   "execution_count": 13,
   "metadata": {},
   "outputs": [
    {
     "data": {
      "text/plain": [
       "Fiber optic    4995\n",
       "DSL            4130\n",
       "No             3210\n",
       "Name: InternetConnection, dtype: int64"
      ]
     },
     "execution_count": 13,
     "metadata": {},
     "output_type": "execute_result"
    }
   ],
   "source": [
    "data['InternetConnection'].value_counts()"
   ]
  },
  {
   "cell_type": "code",
   "execution_count": 14,
   "metadata": {},
   "outputs": [
    {
     "data": {
      "image/png": "[encoded data removed]",
      "text/plain": [
       "<Figure size 432x288 with 1 Axes>"
      ]
     },
     "metadata": {
      "needs_background": "light"
     },
     "output_type": "display_data"
    }
   ],
   "source": [
    "sns.countplot(x='InternetConnection',data=data)\n",
    "plt.title('Analysis')\n",
    "plt.xlabel('Count')\n",
    "plt.ylabel('InternetConnection')\n",
    "plt.show()"
   ]
  },
  {
   "cell_type": "code",
   "execution_count": 15,
   "metadata": {},
   "outputs": [
    {
     "data": {
      "text/plain": [
       "No                     5773\n",
       "Yes                    3329\n",
       "No internet service    3233\n",
       "Name: OnlineSecurity, dtype: int64"
      ]
     },
     "execution_count": 15,
     "metadata": {},
     "output_type": "execute_result"
    }
   ],
   "source": [
    "data['OnlineSecurity'].value_counts()"
   ]
  },
  {
   "cell_type": "code",
   "execution_count": 16,
   "metadata": {},
   "outputs": [
    {
     "data": {
      "image/png": "[encoded data removed]",
      "text/plain": [
       "<Figure size 432x288 with 1 Axes>"
      ]
     },
     "metadata": {
      "needs_background": "light"
     },
     "output_type": "display_data"
    }
   ],
   "source": [
    "sns.countplot(x='OnlineSecurity',data=data)\n",
    "plt.title('Analysis')\n",
    "plt.xlabel('Count')\n",
    "plt.ylabel('OnlineSecurity')\n",
    "plt.show()"
   ]
  },
  {
   "cell_type": "code",
   "execution_count": 17,
   "metadata": {},
   "outputs": [
    {
     "data": {
      "text/plain": [
       "No                     5118\n",
       "Yes                    3990\n",
       "No internet service    3227\n",
       "Name: OnlineBackup, dtype: int64"
      ]
     },
     "execution_count": 17,
     "metadata": {},
     "output_type": "execute_result"
    }
   ],
   "source": [
    "data['OnlineBackup'].value_counts()"
   ]
  },
  {
   "cell_type": "code",
   "execution_count": 18,
   "metadata": {},
   "outputs": [
    {
     "data": {
      "image/png": "[encoded data removed]",
      "text/plain": [
       "<Figure size 432x288 with 1 Axes>"
      ]
     },
     "metadata": {
      "needs_background": "light"
     },
     "output_type": "display_data"
    }
   ],
   "source": [
    "sns.countplot(x='OnlineBackup',data=data)\n",
    "plt.title('Analysis')\n",
    "plt.xlabel('Count')\n",
    "plt.ylabel('OnlineBackup')\n",
    "plt.show()"
   ]
  },
  {
   "cell_type": "code",
   "execution_count": 19,
   "metadata": {},
   "outputs": [
    {
     "data": {
      "text/plain": [
       "No                     5173\n",
       "Yes                    3921\n",
       "No internet service    3241\n",
       "Name: DeviceProtectionService, dtype: int64"
      ]
     },
     "execution_count": 19,
     "metadata": {},
     "output_type": "execute_result"
    }
   ],
   "source": [
    "data['DeviceProtectionService'].value_counts()"
   ]
  },
  {
   "cell_type": "code",
   "execution_count": 20,
   "metadata": {},
   "outputs": [
    {
     "data": {
      "image/png": "[encoded data removed]",
      "text/plain": [
       "<Figure size 432x288 with 1 Axes>"
      ]
     },
     "metadata": {
      "needs_background": "light"
     },
     "output_type": "display_data"
    }
   ],
   "source": [
    "sns.countplot(x='DeviceProtectionService',data=data)\n",
    "plt.title('Analysis')\n",
    "plt.xlabel('Count')\n",
    "plt.ylabel('DeviceProtectionService')\n",
    "plt.show()"
   ]
  },
  {
   "cell_type": "code",
   "execution_count": 21,
   "metadata": {},
   "outputs": [
    {
     "data": {
      "text/plain": [
       "No                     5863\n",
       "Yes                    3258\n",
       "No internet service    3214\n",
       "Name: TechnicalHelp, dtype: int64"
      ]
     },
     "execution_count": 21,
     "metadata": {},
     "output_type": "execute_result"
    }
   ],
   "source": [
    "data['TechnicalHelp'].value_counts()"
   ]
  },
  {
   "cell_type": "code",
   "execution_count": 22,
   "metadata": {},
   "outputs": [
    {
     "data": {
      "image/png": "[encoded data removed]",
      "text/plain": [
       "<Figure size 432x288 with 1 Axes>"
      ]
     },
     "metadata": {
      "needs_background": "light"
     },
     "output_type": "display_data"
    }
   ],
   "source": [
    "sns.countplot(x='TechnicalHelp',data=data)\n",
    "plt.title('Analysis')\n",
    "plt.xlabel('Count')\n",
    "plt.ylabel('TechnicalHelp')\n",
    "plt.show()"
   ]
  },
  {
   "cell_type": "code",
   "execution_count": 23,
   "metadata": {},
   "outputs": [
    {
     "data": {
      "text/plain": [
       "No                     4592\n",
       "Yes                    4498\n",
       "No internet service    3245\n",
       "Name: OnlineTV, dtype: int64"
      ]
     },
     "execution_count": 23,
     "metadata": {},
     "output_type": "execute_result"
    }
   ],
   "source": [
    "data['OnlineTV'].value_counts()"
   ]
  },
  {
   "cell_type": "code",
   "execution_count": 24,
   "metadata": {},
   "outputs": [
    {
     "data": {
      "image/png": "[encoded data removed]",
      "text/plain": [
       "<Figure size 432x288 with 1 Axes>"
      ]
     },
     "metadata": {
      "needs_background": "light"
     },
     "output_type": "display_data"
    }
   ],
   "source": [
    "sns.countplot(x='OnlineTV',data=data)\n",
    "plt.title('Analysis')\n",
    "plt.xlabel('Count')\n",
    "plt.ylabel('OnlineTV')\n",
    "plt.show()"
   ]
  },
  {
   "cell_type": "code",
   "execution_count": 25,
   "metadata": {},
   "outputs": [
    {
     "data": {
      "text/plain": [
       "No                     4620\n",
       "Yes                    4493\n",
       "No internet service    3222\n",
       "Name: OnlineMovies, dtype: int64"
      ]
     },
     "execution_count": 25,
     "metadata": {},
     "output_type": "execute_result"
    }
   ],
   "source": [
    "data['OnlineMovies'].value_counts()"
   ]
  },
  {
   "cell_type": "code",
   "execution_count": 26,
   "metadata": {},
   "outputs": [
    {
     "data": {
      "image/png": "[encoded data removed]",
      "text/plain": [
       "<Figure size 432x288 with 1 Axes>"
      ]
     },
     "metadata": {
      "needs_background": "light"
     },
     "output_type": "display_data"
    }
   ],
   "source": [
    "sns.countplot(x='OnlineMovies',data=data)\n",
    "plt.title('Analysis')\n",
    "plt.xlabel('Count')\n",
    "plt.ylabel('OnlineMovies')\n",
    "plt.show()"
   ]
  },
  {
   "cell_type": "code",
   "execution_count": 27,
   "metadata": {},
   "outputs": [
    {
     "data": {
      "text/plain": [
       "Month-to-month    7058\n",
       "One year          2692\n",
       "Two year          2585\n",
       "Name: Agreement, dtype: int64"
      ]
     },
     "execution_count": 27,
     "metadata": {},
     "output_type": "execute_result"
    }
   ],
   "source": [
    "data['Agreement'].value_counts()"
   ]
  },
  {
   "cell_type": "code",
   "execution_count": 28,
   "metadata": {},
   "outputs": [
    {
     "data": {
      "image/png": "[encoded data removed]",
      "text/plain": [
       "<Figure size 432x288 with 1 Axes>"
      ]
     },
     "metadata": {
      "needs_background": "light"
     },
     "output_type": "display_data"
    }
   ],
   "source": [
    "sns.countplot(x='Agreement',data=data)\n",
    "plt.title('Analysis')\n",
    "plt.xlabel('Count')\n",
    "plt.ylabel('Agreement')\n",
    "plt.show()"
   ]
  },
  {
   "cell_type": "code",
   "execution_count": 29,
   "metadata": {},
   "outputs": [
    {
     "data": {
      "text/plain": [
       "Electronic check             4013\n",
       "Mailed check                 3029\n",
       "Bank transfer (automatic)    2758\n",
       "Credit card (automatic)      2535\n",
       "Name: PaymentMethod, dtype: int64"
      ]
     },
     "execution_count": 29,
     "metadata": {},
     "output_type": "execute_result"
    }
   ],
   "source": [
    "data['PaymentMethod'].value_counts()"
   ]
  },
  {
   "cell_type": "code",
   "execution_count": 30,
   "metadata": {},
   "outputs": [
    {
     "data": {
      "image/png": "[encoded data removed]",
      "text/plain": [
       "<Figure size 432x288 with 1 Axes>"
      ]
     },
     "metadata": {
      "needs_background": "light"
     },
     "output_type": "display_data"
    }
   ],
   "source": [
    "sns.countplot(x='PaymentMethod',data=data)\n",
    "plt.title('Analysis')\n",
    "plt.xlabel('Count')\n",
    "plt.ylabel('PaymentMethod')\n",
    "plt.show()"
   ]
  },
  {
   "cell_type": "code",
   "execution_count": 31,
   "metadata": {},
   "outputs": [
    {
     "data": {
      "text/plain": [
       "<seaborn.axisgrid.FacetGrid at 0x2196eeb9f70>"
      ]
     },
     "execution_count": 31,
     "metadata": {},
     "output_type": "execute_result"
    },
    {
     "data": {
      "image/png": "[encoded data removed]",
      "text/plain": [
       "<Figure size 403.2x288 with 2 Axes>"
      ]
     },
     "metadata": {
      "needs_background": "light"
     },
     "output_type": "display_data"
    }
   ],
   "source": [
    "sns.catplot(x=\"gender\", col=\"Churn\",data=data, kind=\"count\",height=4, aspect=.7)"
   ]
  },
  {
   "cell_type": "code",
   "execution_count": 32,
   "metadata": {},
   "outputs": [],
   "source": [
    "# We will drop customer id\n",
    "\n",
    "data.drop(['customerID'],axis=1,inplace=True)"
   ]
  },
  {
   "cell_type": "code",
   "execution_count": 33,
   "metadata": {},
   "outputs": [
    {
     "data": {
      "text/plain": [
       "(12335, 20)"
      ]
     },
     "execution_count": 33,
     "metadata": {},
     "output_type": "execute_result"
    }
   ],
   "source": [
    "data.shape"
   ]
  },
  {
   "cell_type": "code",
   "execution_count": 34,
   "metadata": {},
   "outputs": [],
   "source": [
    "data['SeniorCitizen']=round(data['SeniorCitizen'])"
   ]
  },
  {
   "cell_type": "code",
   "execution_count": 36,
   "metadata": {},
   "outputs": [
    {
     "data": {
      "text/plain": [
       "0.0    10394\n",
       "1.0     1941\n",
       "Name: SeniorCitizen, dtype: int64"
      ]
     },
     "execution_count": 36,
     "metadata": {},
     "output_type": "execute_result"
    }
   ],
   "source": [
    "data['SeniorCitizen'].value_counts()"
   ]
  },
  {
   "cell_type": "markdown",
   "metadata": {},
   "source": [
    "#### Categorising data into numerical and categorical data"
   ]
  },
  {
   "cell_type": "code",
   "execution_count": 37,
   "metadata": {},
   "outputs": [
    {
     "data": {
      "text/plain": [
       "Index(['SeniorCitizen', 'tenure', 'MonthlyServiceCharges', 'TotalAmount'], dtype='object')"
      ]
     },
     "execution_count": 37,
     "metadata": {},
     "output_type": "execute_result"
    }
   ],
   "source": [
    "data_num=data.select_dtypes(include=[np.number])\n",
    "data_num.columns"
   ]
  },
  {
   "cell_type": "code",
   "execution_count": 38,
   "metadata": {},
   "outputs": [
    {
     "data": {
      "text/plain": [
       "Index(['gender', 'Partner', 'Dependents', 'CallService', 'MultipleConnections',\n",
       "       'InternetConnection', 'OnlineSecurity', 'OnlineBackup',\n",
       "       'DeviceProtectionService', 'TechnicalHelp', 'OnlineTV', 'OnlineMovies',\n",
       "       'Agreement', 'BillingMethod', 'PaymentMethod', 'Churn'],\n",
       "      dtype='object')"
      ]
     },
     "execution_count": 38,
     "metadata": {},
     "output_type": "execute_result"
    }
   ],
   "source": [
    "data_cat=data.select_dtypes(include=[np.object])\n",
    "data_cat.columns"
   ]
  },
  {
   "cell_type": "code",
   "execution_count": 39,
   "metadata": {},
   "outputs": [],
   "source": [
    "data_numeric=data.loc[:,['SeniorCitizen', 'tenure', 'MonthlyServiceCharges', 'TotalAmount']]"
   ]
  },
  {
   "cell_type": "markdown",
   "metadata": {},
   "source": [
    "#### Feature engineering"
   ]
  },
  {
   "cell_type": "markdown",
   "metadata": {},
   "source": [
    "#### Perform Standard scaling to the numerical variables"
   ]
  },
  {
   "cell_type": "code",
   "execution_count": 40,
   "metadata": {},
   "outputs": [],
   "source": [
    "from sklearn import preprocessing\n",
    "from sklearn.preprocessing import StandardScaler"
   ]
  },
  {
   "cell_type": "code",
   "execution_count": 41,
   "metadata": {},
   "outputs": [],
   "source": [
    "scaler = preprocessing.StandardScaler().fit(data_numeric)"
   ]
  },
  {
   "cell_type": "code",
   "execution_count": 42,
   "metadata": {},
   "outputs": [],
   "source": [
    "data_numeric = scaler.transform(data_numeric)"
   ]
  },
  {
   "cell_type": "code",
   "execution_count": 43,
   "metadata": {},
   "outputs": [],
   "source": [
    "Numeric_Scaled = pd.DataFrame(data_numeric, columns=data_num.columns.tolist())"
   ]
  },
  {
   "cell_type": "code",
   "execution_count": 44,
   "metadata": {},
   "outputs": [
    {
     "data": {
      "text/html": [
       "<div>\n",
       "<style scoped>\n",
       "    .dataframe tbody tr th:only-of-type {\n",
       "        vertical-align: middle;\n",
       "    }\n",
       "\n",
       "    .dataframe tbody tr th {\n",
       "        vertical-align: top;\n",
       "    }\n",
       "\n",
       "    .dataframe thead th {\n",
       "        text-align: right;\n",
       "    }\n",
       "</style>\n",
       "<table border=\"1\" class=\"dataframe\">\n",
       "  <thead>\n",
       "    <tr style=\"text-align: right;\">\n",
       "      <th></th>\n",
       "      <th>SeniorCitizen</th>\n",
       "      <th>tenure</th>\n",
       "      <th>MonthlyServiceCharges</th>\n",
       "      <th>TotalAmount</th>\n",
       "    </tr>\n",
       "  </thead>\n",
       "  <tbody>\n",
       "    <tr>\n",
       "      <th>0</th>\n",
       "      <td>-0.432137</td>\n",
       "      <td>-0.793921</td>\n",
       "      <td>-1.426584</td>\n",
       "      <td>-0.848288</td>\n",
       "    </tr>\n",
       "    <tr>\n",
       "      <th>1</th>\n",
       "      <td>-0.432137</td>\n",
       "      <td>1.605209</td>\n",
       "      <td>-0.282608</td>\n",
       "      <td>0.729666</td>\n",
       "    </tr>\n",
       "    <tr>\n",
       "      <th>2</th>\n",
       "      <td>-0.432137</td>\n",
       "      <td>1.262476</td>\n",
       "      <td>-1.503314</td>\n",
       "      <td>-0.459631</td>\n",
       "    </tr>\n",
       "    <tr>\n",
       "      <th>3</th>\n",
       "      <td>-0.432137</td>\n",
       "      <td>1.605209</td>\n",
       "      <td>-1.227783</td>\n",
       "      <td>-0.161964</td>\n",
       "    </tr>\n",
       "    <tr>\n",
       "      <th>4</th>\n",
       "      <td>-0.432137</td>\n",
       "      <td>-0.793921</td>\n",
       "      <td>0.479460</td>\n",
       "      <td>-0.539442</td>\n",
       "    </tr>\n",
       "  </tbody>\n",
       "</table>\n",
       "</div>"
      ],
      "text/plain": [
       "   SeniorCitizen    tenure  MonthlyServiceCharges  TotalAmount\n",
       "0      -0.432137 -0.793921              -1.426584    -0.848288\n",
       "1      -0.432137  1.605209              -0.282608     0.729666\n",
       "2      -0.432137  1.262476              -1.503314    -0.459631\n",
       "3      -0.432137  1.605209              -1.227783    -0.161964\n",
       "4      -0.432137 -0.793921               0.479460    -0.539442"
      ]
     },
     "execution_count": 44,
     "metadata": {},
     "output_type": "execute_result"
    }
   ],
   "source": [
    "Numeric_Scaled.head()"
   ]
  },
  {
   "cell_type": "code",
   "execution_count": 45,
   "metadata": {},
   "outputs": [
    {
     "data": {
      "text/plain": [
       "Index(['gender', 'Partner', 'Dependents', 'CallService', 'MultipleConnections',\n",
       "       'InternetConnection', 'OnlineSecurity', 'OnlineBackup',\n",
       "       'DeviceProtectionService', 'TechnicalHelp', 'OnlineTV', 'OnlineMovies',\n",
       "       'Agreement', 'BillingMethod', 'PaymentMethod', 'Churn'],\n",
       "      dtype='object')"
      ]
     },
     "execution_count": 45,
     "metadata": {},
     "output_type": "execute_result"
    }
   ],
   "source": [
    "data_cat=data.select_dtypes(include=[np.object])\n",
    "data_cat.columns"
   ]
  },
  {
   "cell_type": "markdown",
   "metadata": {},
   "source": [
    "#### We will drop target col 'Churn' from the data_cat and then perform one hot encoding"
   ]
  },
  {
   "cell_type": "code",
   "execution_count": 46,
   "metadata": {},
   "outputs": [
    {
     "name": "stderr",
     "output_type": "stream",
     "text": [
      "C:\\Users\\Aditya\\anaconda3\\lib\\site-packages\\pandas\\core\\frame.py:4163: SettingWithCopyWarning: \n",
      "A value is trying to be set on a copy of a slice from a DataFrame\n",
      "\n",
      "See the caveats in the documentation: https://pandas.pydata.org/pandas-docs/stable/user_guide/indexing.html#returning-a-view-versus-a-copy\n",
      "  return super().drop(\n"
     ]
    }
   ],
   "source": [
    "data_cat.drop(['Churn'],axis=1,inplace=True)"
   ]
  },
  {
   "cell_type": "markdown",
   "metadata": {},
   "source": [
    "#### Performing one hot encoding on categorical variables"
   ]
  },
  {
   "cell_type": "code",
   "execution_count": 47,
   "metadata": {},
   "outputs": [
    {
     "data": {
      "text/plain": [
       "(12335, 26)"
      ]
     },
     "execution_count": 47,
     "metadata": {},
     "output_type": "execute_result"
    }
   ],
   "source": [
    "dummyEncoder_categorical = pd.get_dummies(data_cat, drop_first=True)\n",
    "dummyEncoder_categorical.shape"
   ]
  },
  {
   "cell_type": "code",
   "execution_count": 48,
   "metadata": {},
   "outputs": [
    {
     "data": {
      "text/html": [
       "<div>\n",
       "<style scoped>\n",
       "    .dataframe tbody tr th:only-of-type {\n",
       "        vertical-align: middle;\n",
       "    }\n",
       "\n",
       "    .dataframe tbody tr th {\n",
       "        vertical-align: top;\n",
       "    }\n",
       "\n",
       "    .dataframe thead th {\n",
       "        text-align: right;\n",
       "    }\n",
       "</style>\n",
       "<table border=\"1\" class=\"dataframe\">\n",
       "  <thead>\n",
       "    <tr style=\"text-align: right;\">\n",
       "      <th></th>\n",
       "      <th>gender_Male</th>\n",
       "      <th>Partner_Yes</th>\n",
       "      <th>Dependents_Yes</th>\n",
       "      <th>CallService_Yes</th>\n",
       "      <th>MultipleConnections_No phone service</th>\n",
       "      <th>MultipleConnections_Yes</th>\n",
       "      <th>InternetConnection_Fiber optic</th>\n",
       "      <th>InternetConnection_No</th>\n",
       "      <th>OnlineSecurity_No internet service</th>\n",
       "      <th>OnlineSecurity_Yes</th>\n",
       "      <th>OnlineBackup_No internet service</th>\n",
       "      <th>OnlineBackup_Yes</th>\n",
       "      <th>DeviceProtectionService_No internet service</th>\n",
       "      <th>DeviceProtectionService_Yes</th>\n",
       "      <th>TechnicalHelp_No internet service</th>\n",
       "      <th>TechnicalHelp_Yes</th>\n",
       "      <th>OnlineTV_No internet service</th>\n",
       "      <th>OnlineTV_Yes</th>\n",
       "      <th>OnlineMovies_No internet service</th>\n",
       "      <th>OnlineMovies_Yes</th>\n",
       "      <th>Agreement_One year</th>\n",
       "      <th>Agreement_Two year</th>\n",
       "      <th>BillingMethod_Yes</th>\n",
       "      <th>PaymentMethod_Credit card (automatic)</th>\n",
       "      <th>PaymentMethod_Electronic check</th>\n",
       "      <th>PaymentMethod_Mailed check</th>\n",
       "    </tr>\n",
       "  </thead>\n",
       "  <tbody>\n",
       "    <tr>\n",
       "      <th>0</th>\n",
       "      <td>0</td>\n",
       "      <td>1</td>\n",
       "      <td>1</td>\n",
       "      <td>1</td>\n",
       "      <td>0</td>\n",
       "      <td>0</td>\n",
       "      <td>0</td>\n",
       "      <td>1</td>\n",
       "      <td>1</td>\n",
       "      <td>0</td>\n",
       "      <td>1</td>\n",
       "      <td>0</td>\n",
       "      <td>1</td>\n",
       "      <td>0</td>\n",
       "      <td>1</td>\n",
       "      <td>0</td>\n",
       "      <td>1</td>\n",
       "      <td>0</td>\n",
       "      <td>1</td>\n",
       "      <td>0</td>\n",
       "      <td>1</td>\n",
       "      <td>0</td>\n",
       "      <td>0</td>\n",
       "      <td>0</td>\n",
       "      <td>0</td>\n",
       "      <td>1</td>\n",
       "    </tr>\n",
       "    <tr>\n",
       "      <th>1</th>\n",
       "      <td>0</td>\n",
       "      <td>0</td>\n",
       "      <td>0</td>\n",
       "      <td>0</td>\n",
       "      <td>1</td>\n",
       "      <td>0</td>\n",
       "      <td>0</td>\n",
       "      <td>0</td>\n",
       "      <td>0</td>\n",
       "      <td>0</td>\n",
       "      <td>0</td>\n",
       "      <td>0</td>\n",
       "      <td>0</td>\n",
       "      <td>1</td>\n",
       "      <td>0</td>\n",
       "      <td>1</td>\n",
       "      <td>0</td>\n",
       "      <td>1</td>\n",
       "      <td>0</td>\n",
       "      <td>1</td>\n",
       "      <td>0</td>\n",
       "      <td>0</td>\n",
       "      <td>1</td>\n",
       "      <td>1</td>\n",
       "      <td>0</td>\n",
       "      <td>0</td>\n",
       "    </tr>\n",
       "    <tr>\n",
       "      <th>2</th>\n",
       "      <td>0</td>\n",
       "      <td>1</td>\n",
       "      <td>0</td>\n",
       "      <td>1</td>\n",
       "      <td>0</td>\n",
       "      <td>0</td>\n",
       "      <td>0</td>\n",
       "      <td>1</td>\n",
       "      <td>1</td>\n",
       "      <td>0</td>\n",
       "      <td>1</td>\n",
       "      <td>0</td>\n",
       "      <td>1</td>\n",
       "      <td>0</td>\n",
       "      <td>1</td>\n",
       "      <td>0</td>\n",
       "      <td>1</td>\n",
       "      <td>0</td>\n",
       "      <td>1</td>\n",
       "      <td>0</td>\n",
       "      <td>0</td>\n",
       "      <td>1</td>\n",
       "      <td>0</td>\n",
       "      <td>0</td>\n",
       "      <td>0</td>\n",
       "      <td>0</td>\n",
       "    </tr>\n",
       "    <tr>\n",
       "      <th>3</th>\n",
       "      <td>1</td>\n",
       "      <td>1</td>\n",
       "      <td>1</td>\n",
       "      <td>1</td>\n",
       "      <td>0</td>\n",
       "      <td>1</td>\n",
       "      <td>0</td>\n",
       "      <td>1</td>\n",
       "      <td>1</td>\n",
       "      <td>0</td>\n",
       "      <td>1</td>\n",
       "      <td>0</td>\n",
       "      <td>1</td>\n",
       "      <td>0</td>\n",
       "      <td>1</td>\n",
       "      <td>0</td>\n",
       "      <td>1</td>\n",
       "      <td>0</td>\n",
       "      <td>1</td>\n",
       "      <td>0</td>\n",
       "      <td>0</td>\n",
       "      <td>1</td>\n",
       "      <td>0</td>\n",
       "      <td>0</td>\n",
       "      <td>0</td>\n",
       "      <td>1</td>\n",
       "    </tr>\n",
       "    <tr>\n",
       "      <th>4</th>\n",
       "      <td>0</td>\n",
       "      <td>0</td>\n",
       "      <td>0</td>\n",
       "      <td>1</td>\n",
       "      <td>0</td>\n",
       "      <td>1</td>\n",
       "      <td>1</td>\n",
       "      <td>0</td>\n",
       "      <td>0</td>\n",
       "      <td>0</td>\n",
       "      <td>0</td>\n",
       "      <td>0</td>\n",
       "      <td>0</td>\n",
       "      <td>0</td>\n",
       "      <td>0</td>\n",
       "      <td>0</td>\n",
       "      <td>0</td>\n",
       "      <td>0</td>\n",
       "      <td>0</td>\n",
       "      <td>0</td>\n",
       "      <td>0</td>\n",
       "      <td>0</td>\n",
       "      <td>0</td>\n",
       "      <td>0</td>\n",
       "      <td>1</td>\n",
       "      <td>0</td>\n",
       "    </tr>\n",
       "  </tbody>\n",
       "</table>\n",
       "</div>"
      ],
      "text/plain": [
       "   gender_Male  Partner_Yes  Dependents_Yes  CallService_Yes  \\\n",
       "0            0            1               1                1   \n",
       "1            0            0               0                0   \n",
       "2            0            1               0                1   \n",
       "3            1            1               1                1   \n",
       "4            0            0               0                1   \n",
       "\n",
       "   MultipleConnections_No phone service  MultipleConnections_Yes  \\\n",
       "0                                     0                        0   \n",
       "1                                     1                        0   \n",
       "2                                     0                        0   \n",
       "3                                     0                        1   \n",
       "4                                     0                        1   \n",
       "\n",
       "   InternetConnection_Fiber optic  InternetConnection_No  \\\n",
       "0                               0                      1   \n",
       "1                               0                      0   \n",
       "2                               0                      1   \n",
       "3                               0                      1   \n",
       "4                               1                      0   \n",
       "\n",
       "   OnlineSecurity_No internet service  OnlineSecurity_Yes  \\\n",
       "0                                   1                   0   \n",
       "1                                   0                   0   \n",
       "2                                   1                   0   \n",
       "3                                   1                   0   \n",
       "4                                   0                   0   \n",
       "\n",
       "   OnlineBackup_No internet service  OnlineBackup_Yes  \\\n",
       "0                                 1                 0   \n",
       "1                                 0                 0   \n",
       "2                                 1                 0   \n",
       "3                                 1                 0   \n",
       "4                                 0                 0   \n",
       "\n",
       "   DeviceProtectionService_No internet service  DeviceProtectionService_Yes  \\\n",
       "0                                            1                            0   \n",
       "1                                            0                            1   \n",
       "2                                            1                            0   \n",
       "3                                            1                            0   \n",
       "4                                            0                            0   \n",
       "\n",
       "   TechnicalHelp_No internet service  TechnicalHelp_Yes  \\\n",
       "0                                  1                  0   \n",
       "1                                  0                  1   \n",
       "2                                  1                  0   \n",
       "3                                  1                  0   \n",
       "4                                  0                  0   \n",
       "\n",
       "   OnlineTV_No internet service  OnlineTV_Yes  \\\n",
       "0                             1             0   \n",
       "1                             0             1   \n",
       "2                             1             0   \n",
       "3                             1             0   \n",
       "4                             0             0   \n",
       "\n",
       "   OnlineMovies_No internet service  OnlineMovies_Yes  Agreement_One year  \\\n",
       "0                                 1                 0                   1   \n",
       "1                                 0                 1                   0   \n",
       "2                                 1                 0                   0   \n",
       "3                                 1                 0                   0   \n",
       "4                                 0                 0                   0   \n",
       "\n",
       "   Agreement_Two year  BillingMethod_Yes  \\\n",
       "0                   0                  0   \n",
       "1                   0                  1   \n",
       "2                   1                  0   \n",
       "3                   1                  0   \n",
       "4                   0                  0   \n",
       "\n",
       "   PaymentMethod_Credit card (automatic)  PaymentMethod_Electronic check  \\\n",
       "0                                      0                               0   \n",
       "1                                      1                               0   \n",
       "2                                      0                               0   \n",
       "3                                      0                               0   \n",
       "4                                      0                               1   \n",
       "\n",
       "   PaymentMethod_Mailed check  \n",
       "0                           1  \n",
       "1                           0  \n",
       "2                           0  \n",
       "3                           1  \n",
       "4                           0  "
      ]
     },
     "execution_count": 48,
     "metadata": {},
     "output_type": "execute_result"
    }
   ],
   "source": [
    "dummyEncoder_categorical.head()"
   ]
  },
  {
   "cell_type": "markdown",
   "metadata": {},
   "source": [
    "#### We will concatinate the scaled and dummy variables"
   ]
  },
  {
   "cell_type": "code",
   "execution_count": 49,
   "metadata": {},
   "outputs": [],
   "source": [
    "data_new=pd.concat([Numeric_Scaled,dummyEncoder_categorical],axis=1)"
   ]
  },
  {
   "cell_type": "code",
   "execution_count": 50,
   "metadata": {},
   "outputs": [
    {
     "data": {
      "text/plain": [
       "(12335, 30)"
      ]
     },
     "execution_count": 50,
     "metadata": {},
     "output_type": "execute_result"
    }
   ],
   "source": [
    "data_new.shape"
   ]
  },
  {
   "cell_type": "code",
   "execution_count": 51,
   "metadata": {
    "scrolled": true
   },
   "outputs": [
    {
     "data": {
      "text/html": [
       "<div>\n",
       "<style scoped>\n",
       "    .dataframe tbody tr th:only-of-type {\n",
       "        vertical-align: middle;\n",
       "    }\n",
       "\n",
       "    .dataframe tbody tr th {\n",
       "        vertical-align: top;\n",
       "    }\n",
       "\n",
       "    .dataframe thead th {\n",
       "        text-align: right;\n",
       "    }\n",
       "</style>\n",
       "<table border=\"1\" class=\"dataframe\">\n",
       "  <thead>\n",
       "    <tr style=\"text-align: right;\">\n",
       "      <th></th>\n",
       "      <th>SeniorCitizen</th>\n",
       "      <th>tenure</th>\n",
       "      <th>MonthlyServiceCharges</th>\n",
       "      <th>TotalAmount</th>\n",
       "      <th>gender_Male</th>\n",
       "      <th>Partner_Yes</th>\n",
       "      <th>Dependents_Yes</th>\n",
       "      <th>CallService_Yes</th>\n",
       "      <th>MultipleConnections_No phone service</th>\n",
       "      <th>MultipleConnections_Yes</th>\n",
       "      <th>InternetConnection_Fiber optic</th>\n",
       "      <th>InternetConnection_No</th>\n",
       "      <th>OnlineSecurity_No internet service</th>\n",
       "      <th>OnlineSecurity_Yes</th>\n",
       "      <th>OnlineBackup_No internet service</th>\n",
       "      <th>OnlineBackup_Yes</th>\n",
       "      <th>DeviceProtectionService_No internet service</th>\n",
       "      <th>DeviceProtectionService_Yes</th>\n",
       "      <th>TechnicalHelp_No internet service</th>\n",
       "      <th>TechnicalHelp_Yes</th>\n",
       "      <th>OnlineTV_No internet service</th>\n",
       "      <th>OnlineTV_Yes</th>\n",
       "      <th>OnlineMovies_No internet service</th>\n",
       "      <th>OnlineMovies_Yes</th>\n",
       "      <th>Agreement_One year</th>\n",
       "      <th>Agreement_Two year</th>\n",
       "      <th>BillingMethod_Yes</th>\n",
       "      <th>PaymentMethod_Credit card (automatic)</th>\n",
       "      <th>PaymentMethod_Electronic check</th>\n",
       "      <th>PaymentMethod_Mailed check</th>\n",
       "    </tr>\n",
       "  </thead>\n",
       "  <tbody>\n",
       "    <tr>\n",
       "      <th>0</th>\n",
       "      <td>-0.432137</td>\n",
       "      <td>-0.793921</td>\n",
       "      <td>-1.426584</td>\n",
       "      <td>-0.848288</td>\n",
       "      <td>0</td>\n",
       "      <td>1</td>\n",
       "      <td>1</td>\n",
       "      <td>1</td>\n",
       "      <td>0</td>\n",
       "      <td>0</td>\n",
       "      <td>0</td>\n",
       "      <td>1</td>\n",
       "      <td>1</td>\n",
       "      <td>0</td>\n",
       "      <td>1</td>\n",
       "      <td>0</td>\n",
       "      <td>1</td>\n",
       "      <td>0</td>\n",
       "      <td>1</td>\n",
       "      <td>0</td>\n",
       "      <td>1</td>\n",
       "      <td>0</td>\n",
       "      <td>1</td>\n",
       "      <td>0</td>\n",
       "      <td>1</td>\n",
       "      <td>0</td>\n",
       "      <td>0</td>\n",
       "      <td>0</td>\n",
       "      <td>0</td>\n",
       "      <td>1</td>\n",
       "    </tr>\n",
       "    <tr>\n",
       "      <th>1</th>\n",
       "      <td>-0.432137</td>\n",
       "      <td>1.605209</td>\n",
       "      <td>-0.282608</td>\n",
       "      <td>0.729666</td>\n",
       "      <td>0</td>\n",
       "      <td>0</td>\n",
       "      <td>0</td>\n",
       "      <td>0</td>\n",
       "      <td>1</td>\n",
       "      <td>0</td>\n",
       "      <td>0</td>\n",
       "      <td>0</td>\n",
       "      <td>0</td>\n",
       "      <td>0</td>\n",
       "      <td>0</td>\n",
       "      <td>0</td>\n",
       "      <td>0</td>\n",
       "      <td>1</td>\n",
       "      <td>0</td>\n",
       "      <td>1</td>\n",
       "      <td>0</td>\n",
       "      <td>1</td>\n",
       "      <td>0</td>\n",
       "      <td>1</td>\n",
       "      <td>0</td>\n",
       "      <td>0</td>\n",
       "      <td>1</td>\n",
       "      <td>1</td>\n",
       "      <td>0</td>\n",
       "      <td>0</td>\n",
       "    </tr>\n",
       "    <tr>\n",
       "      <th>2</th>\n",
       "      <td>-0.432137</td>\n",
       "      <td>1.262476</td>\n",
       "      <td>-1.503314</td>\n",
       "      <td>-0.459631</td>\n",
       "      <td>0</td>\n",
       "      <td>1</td>\n",
       "      <td>0</td>\n",
       "      <td>1</td>\n",
       "      <td>0</td>\n",
       "      <td>0</td>\n",
       "      <td>0</td>\n",
       "      <td>1</td>\n",
       "      <td>1</td>\n",
       "      <td>0</td>\n",
       "      <td>1</td>\n",
       "      <td>0</td>\n",
       "      <td>1</td>\n",
       "      <td>0</td>\n",
       "      <td>1</td>\n",
       "      <td>0</td>\n",
       "      <td>1</td>\n",
       "      <td>0</td>\n",
       "      <td>1</td>\n",
       "      <td>0</td>\n",
       "      <td>0</td>\n",
       "      <td>1</td>\n",
       "      <td>0</td>\n",
       "      <td>0</td>\n",
       "      <td>0</td>\n",
       "      <td>0</td>\n",
       "    </tr>\n",
       "    <tr>\n",
       "      <th>3</th>\n",
       "      <td>-0.432137</td>\n",
       "      <td>1.605209</td>\n",
       "      <td>-1.227783</td>\n",
       "      <td>-0.161964</td>\n",
       "      <td>1</td>\n",
       "      <td>1</td>\n",
       "      <td>1</td>\n",
       "      <td>1</td>\n",
       "      <td>0</td>\n",
       "      <td>1</td>\n",
       "      <td>0</td>\n",
       "      <td>1</td>\n",
       "      <td>1</td>\n",
       "      <td>0</td>\n",
       "      <td>1</td>\n",
       "      <td>0</td>\n",
       "      <td>1</td>\n",
       "      <td>0</td>\n",
       "      <td>1</td>\n",
       "      <td>0</td>\n",
       "      <td>1</td>\n",
       "      <td>0</td>\n",
       "      <td>1</td>\n",
       "      <td>0</td>\n",
       "      <td>0</td>\n",
       "      <td>1</td>\n",
       "      <td>0</td>\n",
       "      <td>0</td>\n",
       "      <td>0</td>\n",
       "      <td>1</td>\n",
       "    </tr>\n",
       "    <tr>\n",
       "      <th>4</th>\n",
       "      <td>-0.432137</td>\n",
       "      <td>-0.793921</td>\n",
       "      <td>0.479460</td>\n",
       "      <td>-0.539442</td>\n",
       "      <td>0</td>\n",
       "      <td>0</td>\n",
       "      <td>0</td>\n",
       "      <td>1</td>\n",
       "      <td>0</td>\n",
       "      <td>1</td>\n",
       "      <td>1</td>\n",
       "      <td>0</td>\n",
       "      <td>0</td>\n",
       "      <td>0</td>\n",
       "      <td>0</td>\n",
       "      <td>0</td>\n",
       "      <td>0</td>\n",
       "      <td>0</td>\n",
       "      <td>0</td>\n",
       "      <td>0</td>\n",
       "      <td>0</td>\n",
       "      <td>0</td>\n",
       "      <td>0</td>\n",
       "      <td>0</td>\n",
       "      <td>0</td>\n",
       "      <td>0</td>\n",
       "      <td>0</td>\n",
       "      <td>0</td>\n",
       "      <td>1</td>\n",
       "      <td>0</td>\n",
       "    </tr>\n",
       "  </tbody>\n",
       "</table>\n",
       "</div>"
      ],
      "text/plain": [
       "   SeniorCitizen    tenure  MonthlyServiceCharges  TotalAmount  gender_Male  \\\n",
       "0      -0.432137 -0.793921              -1.426584    -0.848288            0   \n",
       "1      -0.432137  1.605209              -0.282608     0.729666            0   \n",
       "2      -0.432137  1.262476              -1.503314    -0.459631            0   \n",
       "3      -0.432137  1.605209              -1.227783    -0.161964            1   \n",
       "4      -0.432137 -0.793921               0.479460    -0.539442            0   \n",
       "\n",
       "   Partner_Yes  Dependents_Yes  CallService_Yes  \\\n",
       "0            1               1                1   \n",
       "1            0               0                0   \n",
       "2            1               0                1   \n",
       "3            1               1                1   \n",
       "4            0               0                1   \n",
       "\n",
       "   MultipleConnections_No phone service  MultipleConnections_Yes  \\\n",
       "0                                     0                        0   \n",
       "1                                     1                        0   \n",
       "2                                     0                        0   \n",
       "3                                     0                        1   \n",
       "4                                     0                        1   \n",
       "\n",
       "   InternetConnection_Fiber optic  InternetConnection_No  \\\n",
       "0                               0                      1   \n",
       "1                               0                      0   \n",
       "2                               0                      1   \n",
       "3                               0                      1   \n",
       "4                               1                      0   \n",
       "\n",
       "   OnlineSecurity_No internet service  OnlineSecurity_Yes  \\\n",
       "0                                   1                   0   \n",
       "1                                   0                   0   \n",
       "2                                   1                   0   \n",
       "3                                   1                   0   \n",
       "4                                   0                   0   \n",
       "\n",
       "   OnlineBackup_No internet service  OnlineBackup_Yes  \\\n",
       "0                                 1                 0   \n",
       "1                                 0                 0   \n",
       "2                                 1                 0   \n",
       "3                                 1                 0   \n",
       "4                                 0                 0   \n",
       "\n",
       "   DeviceProtectionService_No internet service  DeviceProtectionService_Yes  \\\n",
       "0                                            1                            0   \n",
       "1                                            0                            1   \n",
       "2                                            1                            0   \n",
       "3                                            1                            0   \n",
       "4                                            0                            0   \n",
       "\n",
       "   TechnicalHelp_No internet service  TechnicalHelp_Yes  \\\n",
       "0                                  1                  0   \n",
       "1                                  0                  1   \n",
       "2                                  1                  0   \n",
       "3                                  1                  0   \n",
       "4                                  0                  0   \n",
       "\n",
       "   OnlineTV_No internet service  OnlineTV_Yes  \\\n",
       "0                             1             0   \n",
       "1                             0             1   \n",
       "2                             1             0   \n",
       "3                             1             0   \n",
       "4                             0             0   \n",
       "\n",
       "   OnlineMovies_No internet service  OnlineMovies_Yes  Agreement_One year  \\\n",
       "0                                 1                 0                   1   \n",
       "1                                 0                 1                   0   \n",
       "2                                 1                 0                   0   \n",
       "3                                 1                 0                   0   \n",
       "4                                 0                 0                   0   \n",
       "\n",
       "   Agreement_Two year  BillingMethod_Yes  \\\n",
       "0                   0                  0   \n",
       "1                   0                  1   \n",
       "2                   1                  0   \n",
       "3                   1                  0   \n",
       "4                   0                  0   \n",
       "\n",
       "   PaymentMethod_Credit card (automatic)  PaymentMethod_Electronic check  \\\n",
       "0                                      0                               0   \n",
       "1                                      1                               0   \n",
       "2                                      0                               0   \n",
       "3                                      0                               0   \n",
       "4                                      0                               1   \n",
       "\n",
       "   PaymentMethod_Mailed check  \n",
       "0                           1  \n",
       "1                           0  \n",
       "2                           0  \n",
       "3                           1  \n",
       "4                           0  "
      ]
     },
     "execution_count": 51,
     "metadata": {},
     "output_type": "execute_result"
    }
   ],
   "source": [
    "data_new.head()"
   ]
  },
  {
   "cell_type": "markdown",
   "metadata": {},
   "source": [
    "##### Adding back the target variable 'Churn'"
   ]
  },
  {
   "cell_type": "code",
   "execution_count": 52,
   "metadata": {},
   "outputs": [],
   "source": [
    "data_new['Churn']=data['Churn']"
   ]
  },
  {
   "cell_type": "code",
   "execution_count": 53,
   "metadata": {
    "scrolled": true
   },
   "outputs": [
    {
     "data": {
      "text/html": [
       "<div>\n",
       "<style scoped>\n",
       "    .dataframe tbody tr th:only-of-type {\n",
       "        vertical-align: middle;\n",
       "    }\n",
       "\n",
       "    .dataframe tbody tr th {\n",
       "        vertical-align: top;\n",
       "    }\n",
       "\n",
       "    .dataframe thead th {\n",
       "        text-align: right;\n",
       "    }\n",
       "</style>\n",
       "<table border=\"1\" class=\"dataframe\">\n",
       "  <thead>\n",
       "    <tr style=\"text-align: right;\">\n",
       "      <th></th>\n",
       "      <th>SeniorCitizen</th>\n",
       "      <th>tenure</th>\n",
       "      <th>MonthlyServiceCharges</th>\n",
       "      <th>TotalAmount</th>\n",
       "      <th>gender_Male</th>\n",
       "      <th>Partner_Yes</th>\n",
       "      <th>Dependents_Yes</th>\n",
       "      <th>CallService_Yes</th>\n",
       "      <th>MultipleConnections_No phone service</th>\n",
       "      <th>MultipleConnections_Yes</th>\n",
       "      <th>InternetConnection_Fiber optic</th>\n",
       "      <th>InternetConnection_No</th>\n",
       "      <th>OnlineSecurity_No internet service</th>\n",
       "      <th>OnlineSecurity_Yes</th>\n",
       "      <th>OnlineBackup_No internet service</th>\n",
       "      <th>OnlineBackup_Yes</th>\n",
       "      <th>DeviceProtectionService_No internet service</th>\n",
       "      <th>DeviceProtectionService_Yes</th>\n",
       "      <th>TechnicalHelp_No internet service</th>\n",
       "      <th>TechnicalHelp_Yes</th>\n",
       "      <th>OnlineTV_No internet service</th>\n",
       "      <th>OnlineTV_Yes</th>\n",
       "      <th>OnlineMovies_No internet service</th>\n",
       "      <th>OnlineMovies_Yes</th>\n",
       "      <th>Agreement_One year</th>\n",
       "      <th>Agreement_Two year</th>\n",
       "      <th>BillingMethod_Yes</th>\n",
       "      <th>PaymentMethod_Credit card (automatic)</th>\n",
       "      <th>PaymentMethod_Electronic check</th>\n",
       "      <th>PaymentMethod_Mailed check</th>\n",
       "      <th>Churn</th>\n",
       "    </tr>\n",
       "  </thead>\n",
       "  <tbody>\n",
       "    <tr>\n",
       "      <th>0</th>\n",
       "      <td>-0.432137</td>\n",
       "      <td>-0.793921</td>\n",
       "      <td>-1.426584</td>\n",
       "      <td>-0.848288</td>\n",
       "      <td>0</td>\n",
       "      <td>1</td>\n",
       "      <td>1</td>\n",
       "      <td>1</td>\n",
       "      <td>0</td>\n",
       "      <td>0</td>\n",
       "      <td>0</td>\n",
       "      <td>1</td>\n",
       "      <td>1</td>\n",
       "      <td>0</td>\n",
       "      <td>1</td>\n",
       "      <td>0</td>\n",
       "      <td>1</td>\n",
       "      <td>0</td>\n",
       "      <td>1</td>\n",
       "      <td>0</td>\n",
       "      <td>1</td>\n",
       "      <td>0</td>\n",
       "      <td>1</td>\n",
       "      <td>0</td>\n",
       "      <td>1</td>\n",
       "      <td>0</td>\n",
       "      <td>0</td>\n",
       "      <td>0</td>\n",
       "      <td>0</td>\n",
       "      <td>1</td>\n",
       "      <td>No</td>\n",
       "    </tr>\n",
       "    <tr>\n",
       "      <th>1</th>\n",
       "      <td>-0.432137</td>\n",
       "      <td>1.605209</td>\n",
       "      <td>-0.282608</td>\n",
       "      <td>0.729666</td>\n",
       "      <td>0</td>\n",
       "      <td>0</td>\n",
       "      <td>0</td>\n",
       "      <td>0</td>\n",
       "      <td>1</td>\n",
       "      <td>0</td>\n",
       "      <td>0</td>\n",
       "      <td>0</td>\n",
       "      <td>0</td>\n",
       "      <td>0</td>\n",
       "      <td>0</td>\n",
       "      <td>0</td>\n",
       "      <td>0</td>\n",
       "      <td>1</td>\n",
       "      <td>0</td>\n",
       "      <td>1</td>\n",
       "      <td>0</td>\n",
       "      <td>1</td>\n",
       "      <td>0</td>\n",
       "      <td>1</td>\n",
       "      <td>0</td>\n",
       "      <td>0</td>\n",
       "      <td>1</td>\n",
       "      <td>1</td>\n",
       "      <td>0</td>\n",
       "      <td>0</td>\n",
       "      <td>No</td>\n",
       "    </tr>\n",
       "    <tr>\n",
       "      <th>2</th>\n",
       "      <td>-0.432137</td>\n",
       "      <td>1.262476</td>\n",
       "      <td>-1.503314</td>\n",
       "      <td>-0.459631</td>\n",
       "      <td>0</td>\n",
       "      <td>1</td>\n",
       "      <td>0</td>\n",
       "      <td>1</td>\n",
       "      <td>0</td>\n",
       "      <td>0</td>\n",
       "      <td>0</td>\n",
       "      <td>1</td>\n",
       "      <td>1</td>\n",
       "      <td>0</td>\n",
       "      <td>1</td>\n",
       "      <td>0</td>\n",
       "      <td>1</td>\n",
       "      <td>0</td>\n",
       "      <td>1</td>\n",
       "      <td>0</td>\n",
       "      <td>1</td>\n",
       "      <td>0</td>\n",
       "      <td>1</td>\n",
       "      <td>0</td>\n",
       "      <td>0</td>\n",
       "      <td>1</td>\n",
       "      <td>0</td>\n",
       "      <td>0</td>\n",
       "      <td>0</td>\n",
       "      <td>0</td>\n",
       "      <td>No</td>\n",
       "    </tr>\n",
       "    <tr>\n",
       "      <th>3</th>\n",
       "      <td>-0.432137</td>\n",
       "      <td>1.605209</td>\n",
       "      <td>-1.227783</td>\n",
       "      <td>-0.161964</td>\n",
       "      <td>1</td>\n",
       "      <td>1</td>\n",
       "      <td>1</td>\n",
       "      <td>1</td>\n",
       "      <td>0</td>\n",
       "      <td>1</td>\n",
       "      <td>0</td>\n",
       "      <td>1</td>\n",
       "      <td>1</td>\n",
       "      <td>0</td>\n",
       "      <td>1</td>\n",
       "      <td>0</td>\n",
       "      <td>1</td>\n",
       "      <td>0</td>\n",
       "      <td>1</td>\n",
       "      <td>0</td>\n",
       "      <td>1</td>\n",
       "      <td>0</td>\n",
       "      <td>1</td>\n",
       "      <td>0</td>\n",
       "      <td>0</td>\n",
       "      <td>1</td>\n",
       "      <td>0</td>\n",
       "      <td>0</td>\n",
       "      <td>0</td>\n",
       "      <td>1</td>\n",
       "      <td>No</td>\n",
       "    </tr>\n",
       "    <tr>\n",
       "      <th>4</th>\n",
       "      <td>-0.432137</td>\n",
       "      <td>-0.793921</td>\n",
       "      <td>0.479460</td>\n",
       "      <td>-0.539442</td>\n",
       "      <td>0</td>\n",
       "      <td>0</td>\n",
       "      <td>0</td>\n",
       "      <td>1</td>\n",
       "      <td>0</td>\n",
       "      <td>1</td>\n",
       "      <td>1</td>\n",
       "      <td>0</td>\n",
       "      <td>0</td>\n",
       "      <td>0</td>\n",
       "      <td>0</td>\n",
       "      <td>0</td>\n",
       "      <td>0</td>\n",
       "      <td>0</td>\n",
       "      <td>0</td>\n",
       "      <td>0</td>\n",
       "      <td>0</td>\n",
       "      <td>0</td>\n",
       "      <td>0</td>\n",
       "      <td>0</td>\n",
       "      <td>0</td>\n",
       "      <td>0</td>\n",
       "      <td>0</td>\n",
       "      <td>0</td>\n",
       "      <td>1</td>\n",
       "      <td>0</td>\n",
       "      <td>No</td>\n",
       "    </tr>\n",
       "  </tbody>\n",
       "</table>\n",
       "</div>"
      ],
      "text/plain": [
       "   SeniorCitizen    tenure  MonthlyServiceCharges  TotalAmount  gender_Male  \\\n",
       "0      -0.432137 -0.793921              -1.426584    -0.848288            0   \n",
       "1      -0.432137  1.605209              -0.282608     0.729666            0   \n",
       "2      -0.432137  1.262476              -1.503314    -0.459631            0   \n",
       "3      -0.432137  1.605209              -1.227783    -0.161964            1   \n",
       "4      -0.432137 -0.793921               0.479460    -0.539442            0   \n",
       "\n",
       "   Partner_Yes  Dependents_Yes  CallService_Yes  \\\n",
       "0            1               1                1   \n",
       "1            0               0                0   \n",
       "2            1               0                1   \n",
       "3            1               1                1   \n",
       "4            0               0                1   \n",
       "\n",
       "   MultipleConnections_No phone service  MultipleConnections_Yes  \\\n",
       "0                                     0                        0   \n",
       "1                                     1                        0   \n",
       "2                                     0                        0   \n",
       "3                                     0                        1   \n",
       "4                                     0                        1   \n",
       "\n",
       "   InternetConnection_Fiber optic  InternetConnection_No  \\\n",
       "0                               0                      1   \n",
       "1                               0                      0   \n",
       "2                               0                      1   \n",
       "3                               0                      1   \n",
       "4                               1                      0   \n",
       "\n",
       "   OnlineSecurity_No internet service  OnlineSecurity_Yes  \\\n",
       "0                                   1                   0   \n",
       "1                                   0                   0   \n",
       "2                                   1                   0   \n",
       "3                                   1                   0   \n",
       "4                                   0                   0   \n",
       "\n",
       "   OnlineBackup_No internet service  OnlineBackup_Yes  \\\n",
       "0                                 1                 0   \n",
       "1                                 0                 0   \n",
       "2                                 1                 0   \n",
       "3                                 1                 0   \n",
       "4                                 0                 0   \n",
       "\n",
       "   DeviceProtectionService_No internet service  DeviceProtectionService_Yes  \\\n",
       "0                                            1                            0   \n",
       "1                                            0                            1   \n",
       "2                                            1                            0   \n",
       "3                                            1                            0   \n",
       "4                                            0                            0   \n",
       "\n",
       "   TechnicalHelp_No internet service  TechnicalHelp_Yes  \\\n",
       "0                                  1                  0   \n",
       "1                                  0                  1   \n",
       "2                                  1                  0   \n",
       "3                                  1                  0   \n",
       "4                                  0                  0   \n",
       "\n",
       "   OnlineTV_No internet service  OnlineTV_Yes  \\\n",
       "0                             1             0   \n",
       "1                             0             1   \n",
       "2                             1             0   \n",
       "3                             1             0   \n",
       "4                             0             0   \n",
       "\n",
       "   OnlineMovies_No internet service  OnlineMovies_Yes  Agreement_One year  \\\n",
       "0                                 1                 0                   1   \n",
       "1                                 0                 1                   0   \n",
       "2                                 1                 0                   0   \n",
       "3                                 1                 0                   0   \n",
       "4                                 0                 0                   0   \n",
       "\n",
       "   Agreement_Two year  BillingMethod_Yes  \\\n",
       "0                   0                  0   \n",
       "1                   0                  1   \n",
       "2                   1                  0   \n",
       "3                   1                  0   \n",
       "4                   0                  0   \n",
       "\n",
       "   PaymentMethod_Credit card (automatic)  PaymentMethod_Electronic check  \\\n",
       "0                                      0                               0   \n",
       "1                                      1                               0   \n",
       "2                                      0                               0   \n",
       "3                                      0                               0   \n",
       "4                                      0                               1   \n",
       "\n",
       "   PaymentMethod_Mailed check Churn  \n",
       "0                           1    No  \n",
       "1                           0    No  \n",
       "2                           0    No  \n",
       "3                           1    No  \n",
       "4                           0    No  "
      ]
     },
     "execution_count": 53,
     "metadata": {},
     "output_type": "execute_result"
    }
   ],
   "source": [
    "data_new.head()"
   ]
  },
  {
   "cell_type": "markdown",
   "metadata": {},
   "source": [
    "#### Define a new column to convert the target variable into binary form"
   ]
  },
  {
   "cell_type": "code",
   "execution_count": 54,
   "metadata": {},
   "outputs": [],
   "source": [
    "def churn_to_numeric(x):\n",
    "    if x=='No':\n",
    "        return 0\n",
    "    if x=='Yes':\n",
    "        return 1"
   ]
  },
  {
   "cell_type": "code",
   "execution_count": 55,
   "metadata": {},
   "outputs": [
    {
     "data": {
      "text/html": [
       "<div>\n",
       "<style scoped>\n",
       "    .dataframe tbody tr th:only-of-type {\n",
       "        vertical-align: middle;\n",
       "    }\n",
       "\n",
       "    .dataframe tbody tr th {\n",
       "        vertical-align: top;\n",
       "    }\n",
       "\n",
       "    .dataframe thead th {\n",
       "        text-align: right;\n",
       "    }\n",
       "</style>\n",
       "<table border=\"1\" class=\"dataframe\">\n",
       "  <thead>\n",
       "    <tr style=\"text-align: right;\">\n",
       "      <th></th>\n",
       "      <th>SeniorCitizen</th>\n",
       "      <th>tenure</th>\n",
       "      <th>MonthlyServiceCharges</th>\n",
       "      <th>TotalAmount</th>\n",
       "      <th>gender_Male</th>\n",
       "      <th>Partner_Yes</th>\n",
       "      <th>Dependents_Yes</th>\n",
       "      <th>CallService_Yes</th>\n",
       "      <th>MultipleConnections_No phone service</th>\n",
       "      <th>MultipleConnections_Yes</th>\n",
       "      <th>InternetConnection_Fiber optic</th>\n",
       "      <th>InternetConnection_No</th>\n",
       "      <th>OnlineSecurity_No internet service</th>\n",
       "      <th>OnlineSecurity_Yes</th>\n",
       "      <th>OnlineBackup_No internet service</th>\n",
       "      <th>OnlineBackup_Yes</th>\n",
       "      <th>DeviceProtectionService_No internet service</th>\n",
       "      <th>DeviceProtectionService_Yes</th>\n",
       "      <th>TechnicalHelp_No internet service</th>\n",
       "      <th>TechnicalHelp_Yes</th>\n",
       "      <th>OnlineTV_No internet service</th>\n",
       "      <th>OnlineTV_Yes</th>\n",
       "      <th>OnlineMovies_No internet service</th>\n",
       "      <th>OnlineMovies_Yes</th>\n",
       "      <th>Agreement_One year</th>\n",
       "      <th>Agreement_Two year</th>\n",
       "      <th>BillingMethod_Yes</th>\n",
       "      <th>PaymentMethod_Credit card (automatic)</th>\n",
       "      <th>PaymentMethod_Electronic check</th>\n",
       "      <th>PaymentMethod_Mailed check</th>\n",
       "      <th>Churn</th>\n",
       "    </tr>\n",
       "  </thead>\n",
       "  <tbody>\n",
       "    <tr>\n",
       "      <th>0</th>\n",
       "      <td>-0.432137</td>\n",
       "      <td>-0.793921</td>\n",
       "      <td>-1.426584</td>\n",
       "      <td>-0.848288</td>\n",
       "      <td>0</td>\n",
       "      <td>1</td>\n",
       "      <td>1</td>\n",
       "      <td>1</td>\n",
       "      <td>0</td>\n",
       "      <td>0</td>\n",
       "      <td>0</td>\n",
       "      <td>1</td>\n",
       "      <td>1</td>\n",
       "      <td>0</td>\n",
       "      <td>1</td>\n",
       "      <td>0</td>\n",
       "      <td>1</td>\n",
       "      <td>0</td>\n",
       "      <td>1</td>\n",
       "      <td>0</td>\n",
       "      <td>1</td>\n",
       "      <td>0</td>\n",
       "      <td>1</td>\n",
       "      <td>0</td>\n",
       "      <td>1</td>\n",
       "      <td>0</td>\n",
       "      <td>0</td>\n",
       "      <td>0</td>\n",
       "      <td>0</td>\n",
       "      <td>1</td>\n",
       "      <td>0</td>\n",
       "    </tr>\n",
       "    <tr>\n",
       "      <th>1</th>\n",
       "      <td>-0.432137</td>\n",
       "      <td>1.605209</td>\n",
       "      <td>-0.282608</td>\n",
       "      <td>0.729666</td>\n",
       "      <td>0</td>\n",
       "      <td>0</td>\n",
       "      <td>0</td>\n",
       "      <td>0</td>\n",
       "      <td>1</td>\n",
       "      <td>0</td>\n",
       "      <td>0</td>\n",
       "      <td>0</td>\n",
       "      <td>0</td>\n",
       "      <td>0</td>\n",
       "      <td>0</td>\n",
       "      <td>0</td>\n",
       "      <td>0</td>\n",
       "      <td>1</td>\n",
       "      <td>0</td>\n",
       "      <td>1</td>\n",
       "      <td>0</td>\n",
       "      <td>1</td>\n",
       "      <td>0</td>\n",
       "      <td>1</td>\n",
       "      <td>0</td>\n",
       "      <td>0</td>\n",
       "      <td>1</td>\n",
       "      <td>1</td>\n",
       "      <td>0</td>\n",
       "      <td>0</td>\n",
       "      <td>0</td>\n",
       "    </tr>\n",
       "    <tr>\n",
       "      <th>2</th>\n",
       "      <td>-0.432137</td>\n",
       "      <td>1.262476</td>\n",
       "      <td>-1.503314</td>\n",
       "      <td>-0.459631</td>\n",
       "      <td>0</td>\n",
       "      <td>1</td>\n",
       "      <td>0</td>\n",
       "      <td>1</td>\n",
       "      <td>0</td>\n",
       "      <td>0</td>\n",
       "      <td>0</td>\n",
       "      <td>1</td>\n",
       "      <td>1</td>\n",
       "      <td>0</td>\n",
       "      <td>1</td>\n",
       "      <td>0</td>\n",
       "      <td>1</td>\n",
       "      <td>0</td>\n",
       "      <td>1</td>\n",
       "      <td>0</td>\n",
       "      <td>1</td>\n",
       "      <td>0</td>\n",
       "      <td>1</td>\n",
       "      <td>0</td>\n",
       "      <td>0</td>\n",
       "      <td>1</td>\n",
       "      <td>0</td>\n",
       "      <td>0</td>\n",
       "      <td>0</td>\n",
       "      <td>0</td>\n",
       "      <td>0</td>\n",
       "    </tr>\n",
       "    <tr>\n",
       "      <th>3</th>\n",
       "      <td>-0.432137</td>\n",
       "      <td>1.605209</td>\n",
       "      <td>-1.227783</td>\n",
       "      <td>-0.161964</td>\n",
       "      <td>1</td>\n",
       "      <td>1</td>\n",
       "      <td>1</td>\n",
       "      <td>1</td>\n",
       "      <td>0</td>\n",
       "      <td>1</td>\n",
       "      <td>0</td>\n",
       "      <td>1</td>\n",
       "      <td>1</td>\n",
       "      <td>0</td>\n",
       "      <td>1</td>\n",
       "      <td>0</td>\n",
       "      <td>1</td>\n",
       "      <td>0</td>\n",
       "      <td>1</td>\n",
       "      <td>0</td>\n",
       "      <td>1</td>\n",
       "      <td>0</td>\n",
       "      <td>1</td>\n",
       "      <td>0</td>\n",
       "      <td>0</td>\n",
       "      <td>1</td>\n",
       "      <td>0</td>\n",
       "      <td>0</td>\n",
       "      <td>0</td>\n",
       "      <td>1</td>\n",
       "      <td>0</td>\n",
       "    </tr>\n",
       "    <tr>\n",
       "      <th>4</th>\n",
       "      <td>-0.432137</td>\n",
       "      <td>-0.793921</td>\n",
       "      <td>0.479460</td>\n",
       "      <td>-0.539442</td>\n",
       "      <td>0</td>\n",
       "      <td>0</td>\n",
       "      <td>0</td>\n",
       "      <td>1</td>\n",
       "      <td>0</td>\n",
       "      <td>1</td>\n",
       "      <td>1</td>\n",
       "      <td>0</td>\n",
       "      <td>0</td>\n",
       "      <td>0</td>\n",
       "      <td>0</td>\n",
       "      <td>0</td>\n",
       "      <td>0</td>\n",
       "      <td>0</td>\n",
       "      <td>0</td>\n",
       "      <td>0</td>\n",
       "      <td>0</td>\n",
       "      <td>0</td>\n",
       "      <td>0</td>\n",
       "      <td>0</td>\n",
       "      <td>0</td>\n",
       "      <td>0</td>\n",
       "      <td>0</td>\n",
       "      <td>0</td>\n",
       "      <td>1</td>\n",
       "      <td>0</td>\n",
       "      <td>0</td>\n",
       "    </tr>\n",
       "  </tbody>\n",
       "</table>\n",
       "</div>"
      ],
      "text/plain": [
       "   SeniorCitizen    tenure  MonthlyServiceCharges  TotalAmount  gender_Male  \\\n",
       "0      -0.432137 -0.793921              -1.426584    -0.848288            0   \n",
       "1      -0.432137  1.605209              -0.282608     0.729666            0   \n",
       "2      -0.432137  1.262476              -1.503314    -0.459631            0   \n",
       "3      -0.432137  1.605209              -1.227783    -0.161964            1   \n",
       "4      -0.432137 -0.793921               0.479460    -0.539442            0   \n",
       "\n",
       "   Partner_Yes  Dependents_Yes  CallService_Yes  \\\n",
       "0            1               1                1   \n",
       "1            0               0                0   \n",
       "2            1               0                1   \n",
       "3            1               1                1   \n",
       "4            0               0                1   \n",
       "\n",
       "   MultipleConnections_No phone service  MultipleConnections_Yes  \\\n",
       "0                                     0                        0   \n",
       "1                                     1                        0   \n",
       "2                                     0                        0   \n",
       "3                                     0                        1   \n",
       "4                                     0                        1   \n",
       "\n",
       "   InternetConnection_Fiber optic  InternetConnection_No  \\\n",
       "0                               0                      1   \n",
       "1                               0                      0   \n",
       "2                               0                      1   \n",
       "3                               0                      1   \n",
       "4                               1                      0   \n",
       "\n",
       "   OnlineSecurity_No internet service  OnlineSecurity_Yes  \\\n",
       "0                                   1                   0   \n",
       "1                                   0                   0   \n",
       "2                                   1                   0   \n",
       "3                                   1                   0   \n",
       "4                                   0                   0   \n",
       "\n",
       "   OnlineBackup_No internet service  OnlineBackup_Yes  \\\n",
       "0                                 1                 0   \n",
       "1                                 0                 0   \n",
       "2                                 1                 0   \n",
       "3                                 1                 0   \n",
       "4                                 0                 0   \n",
       "\n",
       "   DeviceProtectionService_No internet service  DeviceProtectionService_Yes  \\\n",
       "0                                            1                            0   \n",
       "1                                            0                            1   \n",
       "2                                            1                            0   \n",
       "3                                            1                            0   \n",
       "4                                            0                            0   \n",
       "\n",
       "   TechnicalHelp_No internet service  TechnicalHelp_Yes  \\\n",
       "0                                  1                  0   \n",
       "1                                  0                  1   \n",
       "2                                  1                  0   \n",
       "3                                  1                  0   \n",
       "4                                  0                  0   \n",
       "\n",
       "   OnlineTV_No internet service  OnlineTV_Yes  \\\n",
       "0                             1             0   \n",
       "1                             0             1   \n",
       "2                             1             0   \n",
       "3                             1             0   \n",
       "4                             0             0   \n",
       "\n",
       "   OnlineMovies_No internet service  OnlineMovies_Yes  Agreement_One year  \\\n",
       "0                                 1                 0                   1   \n",
       "1                                 0                 1                   0   \n",
       "2                                 1                 0                   0   \n",
       "3                                 1                 0                   0   \n",
       "4                                 0                 0                   0   \n",
       "\n",
       "   Agreement_Two year  BillingMethod_Yes  \\\n",
       "0                   0                  0   \n",
       "1                   0                  1   \n",
       "2                   1                  0   \n",
       "3                   1                  0   \n",
       "4                   0                  0   \n",
       "\n",
       "   PaymentMethod_Credit card (automatic)  PaymentMethod_Electronic check  \\\n",
       "0                                      0                               0   \n",
       "1                                      1                               0   \n",
       "2                                      0                               0   \n",
       "3                                      0                               0   \n",
       "4                                      0                               1   \n",
       "\n",
       "   PaymentMethod_Mailed check  Churn  \n",
       "0                           1      0  \n",
       "1                           0      0  \n",
       "2                           0      0  \n",
       "3                           1      0  \n",
       "4                           0      0  "
      ]
     },
     "execution_count": 55,
     "metadata": {},
     "output_type": "execute_result"
    }
   ],
   "source": [
    "data_new['Churn'] = data_new['Churn'].apply(churn_to_numeric)\n",
    "data_new.head()"
   ]
  },
  {
   "cell_type": "markdown",
   "metadata": {},
   "source": [
    "#### Split the data into dependent and independent variable"
   ]
  },
  {
   "cell_type": "code",
   "execution_count": 56,
   "metadata": {},
   "outputs": [],
   "source": [
    "X=data_new.drop('Churn',axis=1)\n",
    "y=data_new.loc[:,'Churn']"
   ]
  },
  {
   "cell_type": "code",
   "execution_count": 57,
   "metadata": {},
   "outputs": [
    {
     "name": "stdout",
     "output_type": "stream",
     "text": [
      "(12335, 30) (12335,)\n"
     ]
    }
   ],
   "source": [
    "print(X.shape,y.shape)"
   ]
  },
  {
   "cell_type": "markdown",
   "metadata": {},
   "source": [
    "#### Splittling the Dataset"
   ]
  },
  {
   "cell_type": "code",
   "execution_count": 58,
   "metadata": {},
   "outputs": [
    {
     "name": "stdout",
     "output_type": "stream",
     "text": [
      "(8634, 30) (8634,) (3701, 30) (3701,)\n"
     ]
    }
   ],
   "source": [
    "from sklearn.model_selection import train_test_split\n",
    "X_train,X_test,y_train,y_test = train_test_split(X, y, test_size = 0.3, random_state = 0)\n",
    "print(X_train.shape, y_train.shape, X_test.shape, y_test.shape)\n"
   ]
  },
  {
   "cell_type": "markdown",
   "metadata": {},
   "source": [
    "#### Model preparing using Decision Tree"
   ]
  },
  {
   "cell_type": "code",
   "execution_count": 59,
   "metadata": {},
   "outputs": [],
   "source": [
    "from sklearn.tree import DecisionTreeClassifier"
   ]
  },
  {
   "cell_type": "code",
   "execution_count": 60,
   "metadata": {},
   "outputs": [],
   "source": [
    "DT = DecisionTreeClassifier()"
   ]
  },
  {
   "cell_type": "code",
   "execution_count": 61,
   "metadata": {},
   "outputs": [
    {
     "data": {
      "text/plain": [
       "DecisionTreeClassifier()"
      ]
     },
     "execution_count": 61,
     "metadata": {},
     "output_type": "execute_result"
    }
   ],
   "source": [
    "DT.fit(X_train,y_train)"
   ]
  },
  {
   "cell_type": "code",
   "execution_count": 62,
   "metadata": {},
   "outputs": [],
   "source": [
    "predDT= DT.predict(X_test)"
   ]
  },
  {
   "cell_type": "markdown",
   "metadata": {},
   "source": [
    "#### Confusion Matrix"
   ]
  },
  {
   "cell_type": "code",
   "execution_count": 63,
   "metadata": {},
   "outputs": [],
   "source": [
    "from sklearn.metrics import confusion_matrix"
   ]
  },
  {
   "cell_type": "code",
   "execution_count": 64,
   "metadata": {},
   "outputs": [],
   "source": [
    "conf_mat = confusion_matrix(y_test,predDT)"
   ]
  },
  {
   "cell_type": "code",
   "execution_count": 65,
   "metadata": {},
   "outputs": [
    {
     "name": "stdout",
     "output_type": "stream",
     "text": [
      "[[1785  216]\n",
      " [ 353 1347]]\n"
     ]
    }
   ],
   "source": [
    "print(conf_mat)"
   ]
  },
  {
   "cell_type": "markdown",
   "metadata": {},
   "source": [
    "#### Classification Report"
   ]
  },
  {
   "cell_type": "code",
   "execution_count": 66,
   "metadata": {},
   "outputs": [],
   "source": [
    "from sklearn.metrics import classification_report"
   ]
  },
  {
   "cell_type": "code",
   "execution_count": 67,
   "metadata": {},
   "outputs": [
    {
     "name": "stdout",
     "output_type": "stream",
     "text": [
      "              precision    recall  f1-score   support\n",
      "\n",
      "           0       0.83      0.89      0.86      2001\n",
      "           1       0.86      0.79      0.83      1700\n",
      "\n",
      "    accuracy                           0.85      3701\n",
      "   macro avg       0.85      0.84      0.84      3701\n",
      "weighted avg       0.85      0.85      0.85      3701\n",
      "\n"
     ]
    }
   ],
   "source": [
    "cl= classification_report(y_test,predDT)\n",
    "print(cl)"
   ]
  },
  {
   "cell_type": "markdown",
   "metadata": {},
   "source": [
    "Precision - Out of all the positive classes that we have predicted how many are actually positive.\n",
    "\n",
    "Recall - Out of all the positive class how much we predicted correctly. It should be high as possible\n",
    "\n",
    "Therefore we can infer that the model is able to identify both 0(not churn) and 1(churn) class efficiently."
   ]
  },
  {
   "cell_type": "markdown",
   "metadata": {},
   "source": [
    "#### AUROC curve for Decision Tree"
   ]
  },
  {
   "cell_type": "code",
   "execution_count": 68,
   "metadata": {},
   "outputs": [
    {
     "data": {
      "image/png": "[encoded data removed]",
      "text/plain": [
       "<Figure size 432x288 with 1 Axes>"
      ]
     },
     "metadata": {
      "needs_background": "light"
     },
     "output_type": "display_data"
    }
   ],
   "source": [
    "from sklearn import metrics\n",
    "\n",
    "metrics.plot_roc_curve(DT,X_test,y_test)\n",
    "plt.show()"
   ]
  },
  {
   "cell_type": "markdown",
   "metadata": {},
   "source": [
    "#### Model preparing using Random Forest"
   ]
  },
  {
   "cell_type": "code",
   "execution_count": 69,
   "metadata": {},
   "outputs": [],
   "source": [
    "from sklearn.ensemble import RandomForestClassifier"
   ]
  },
  {
   "cell_type": "code",
   "execution_count": 70,
   "metadata": {},
   "outputs": [],
   "source": [
    "# Create random tree classifer objectc\n",
    "clf_RF=RandomForestClassifier(random_state=0,n_jobs=-1)"
   ]
  },
  {
   "cell_type": "code",
   "execution_count": 71,
   "metadata": {},
   "outputs": [],
   "source": [
    "# Train model\n",
    "model_RF=clf_RF.fit(X_train,y_train)"
   ]
  },
  {
   "cell_type": "code",
   "execution_count": 72,
   "metadata": {},
   "outputs": [],
   "source": [
    "# Predicting the model\n",
    "pred_RF=model_RF.predict(X_test)"
   ]
  },
  {
   "cell_type": "markdown",
   "metadata": {},
   "source": [
    "#### Confusion Matrix"
   ]
  },
  {
   "cell_type": "code",
   "execution_count": 73,
   "metadata": {},
   "outputs": [],
   "source": [
    "conf_mat1 = confusion_matrix(y_test,pred_RF)"
   ]
  },
  {
   "cell_type": "code",
   "execution_count": 74,
   "metadata": {},
   "outputs": [
    {
     "name": "stdout",
     "output_type": "stream",
     "text": [
      "[[1836  165]\n",
      " [ 323 1377]]\n"
     ]
    }
   ],
   "source": [
    "print(conf_mat1)"
   ]
  },
  {
   "cell_type": "markdown",
   "metadata": {},
   "source": [
    "#### Classification Report`"
   ]
  },
  {
   "cell_type": "code",
   "execution_count": 75,
   "metadata": {},
   "outputs": [
    {
     "name": "stdout",
     "output_type": "stream",
     "text": [
      "              precision    recall  f1-score   support\n",
      "\n",
      "           0       0.85      0.92      0.88      2001\n",
      "           1       0.89      0.81      0.85      1700\n",
      "\n",
      "    accuracy                           0.87      3701\n",
      "   macro avg       0.87      0.86      0.87      3701\n",
      "weighted avg       0.87      0.87      0.87      3701\n",
      "\n"
     ]
    }
   ],
   "source": [
    "cl1= classification_report(y_test,pred_RF)\n",
    "print(cl1)"
   ]
  },
  {
   "cell_type": "markdown",
   "metadata": {},
   "source": [
    "#### AUROC curve for Random Forest"
   ]
  },
  {
   "cell_type": "code",
   "execution_count": 76,
   "metadata": {},
   "outputs": [
    {
     "data": {
      "image/png": "[encoded data removed]",
      "text/plain": [
       "<Figure size 432x288 with 1 Axes>"
      ]
     },
     "metadata": {
      "needs_background": "light"
     },
     "output_type": "display_data"
    }
   ],
   "source": [
    "metrics.plot_roc_curve(clf_RF,X_test,y_test)\n",
    "plt.show()"
   ]
  },
  {
   "cell_type": "markdown",
   "metadata": {},
   "source": [
    "We can observe that the random forest model has imporoved both the precison, recal and F1 score of both the classes.\n",
    "\n",
    "We can also observe that our AUROC curve has also increased substaintially."
   ]
  },
  {
   "cell_type": "code",
   "execution_count": null,
   "metadata": {},
   "outputs": [],
   "source": []
  },
  {
   "cell_type": "code",
   "execution_count": null,
   "metadata": {},
   "outputs": [],
   "source": []
  },
  {
   "cell_type": "code",
   "execution_count": null,
   "metadata": {},
   "outputs": [],
   "source": []
  }
 ],
 "metadata": {
  "kernelspec": {
   "display_name": "Python 3",
   "language": "python",
   "name": "python3"
  },
  "language_info": {
   "codemirror_mode": {
    "name": "ipython",
    "version": 3
   },
   "file_extension": ".py",
   "mimetype": "text/x-python",
   "name": "python",
   "nbconvert_exporter": "python",
   "pygments_lexer": "ipython3",
   "version": "3.8.5"
  }
 },
 "nbformat": 4,
 "nbformat_minor": 4
}
